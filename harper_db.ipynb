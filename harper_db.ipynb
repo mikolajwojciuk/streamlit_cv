{
 "cells": [
  {
   "cell_type": "code",
   "execution_count": 1,
   "metadata": {},
   "outputs": [],
   "source": [
    "import harperdb\n",
    "import os"
   ]
  },
  {
   "cell_type": "code",
   "execution_count": 20,
   "metadata": {},
   "outputs": [],
   "source": [
    "DB_URL=\"https://streamlit-cv-mikolajwojciuk.harperdbcloud.com\"\n",
    "DB_USER=\"mikolajwojciuk\"\n",
    "DB_PASSWORD=\"MoJ3iqGv\"\n"
   ]
  },
  {
   "cell_type": "code",
   "execution_count": 21,
   "metadata": {},
   "outputs": [],
   "source": [
    "schema = f\"streamlit_cv\"\n",
    "db = harperdb.HarperDB(\n",
    "    url=DB_URL,\n",
    "    username=DB_USER,\n",
    "    password=DB_PASSWORD)"
   ]
  },
  {
   "cell_type": "code",
   "execution_count": 24,
   "metadata": {},
   "outputs": [],
   "source": [
    "sample_session = [{'id': 1234, 'query': 'pytanie', 'response': 'odpowiedz', 'user_name': 'rekruter'}]"
   ]
  },
  {
   "cell_type": "code",
   "execution_count": 25,
   "metadata": {},
   "outputs": [
    {
     "data": {
      "text/plain": [
       "{'message': 'inserted 1 of 1 records',\n",
       " 'inserted_hashes': ['029a37c6-f868-4ddb-a8fc-d32c0b77ce16'],\n",
       " 'skipped_hashes': []}"
      ]
     },
     "execution_count": 25,
     "metadata": {},
     "output_type": "execute_result"
    }
   ],
   "source": [
    "db.insert(schema,'logs',sample_session)"
   ]
  },
  {
   "cell_type": "code",
   "execution_count": null,
   "metadata": {},
   "outputs": [],
   "source": []
  }
 ],
 "metadata": {
  "kernelspec": {
   "display_name": "venv",
   "language": "python",
   "name": "python3"
  },
  "language_info": {
   "codemirror_mode": {
    "name": "ipython",
    "version": 3
   },
   "file_extension": ".py",
   "mimetype": "text/x-python",
   "name": "python",
   "nbconvert_exporter": "python",
   "pygments_lexer": "ipython3",
   "version": "3.9.5"
  },
  "orig_nbformat": 4
 },
 "nbformat": 4,
 "nbformat_minor": 2
}
